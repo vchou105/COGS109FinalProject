{
 "cells": [
  {
   "cell_type": "code",
   "execution_count": 1,
   "metadata": {},
   "outputs": [],
   "source": [
    "import pandas as pd\n",
    "import numpy as np\n",
    "import matplotlib.pyplot as plt"
   ]
  },
  {
   "cell_type": "code",
   "execution_count": 3,
   "metadata": {},
   "outputs": [
    {
     "data": {
      "text/html": [
       "<div>\n",
       "<style scoped>\n",
       "    .dataframe tbody tr th:only-of-type {\n",
       "        vertical-align: middle;\n",
       "    }\n",
       "\n",
       "    .dataframe tbody tr th {\n",
       "        vertical-align: top;\n",
       "    }\n",
       "\n",
       "    .dataframe thead th {\n",
       "        text-align: right;\n",
       "    }\n",
       "</style>\n",
       "<table border=\"1\" class=\"dataframe\">\n",
       "  <thead>\n",
       "    <tr style=\"text-align: right;\">\n",
       "      <th></th>\n",
       "      <th>snapped_at</th>\n",
       "      <th>price</th>\n",
       "      <th>market_cap</th>\n",
       "      <th>total_volume</th>\n",
       "    </tr>\n",
       "  </thead>\n",
       "  <tbody>\n",
       "    <tr>\n",
       "      <th>0</th>\n",
       "      <td>2013-04-28 00:00:00 UTC</td>\n",
       "      <td>135.30</td>\n",
       "      <td>1.500518e+09</td>\n",
       "      <td>0.0</td>\n",
       "    </tr>\n",
       "    <tr>\n",
       "      <th>1</th>\n",
       "      <td>2013-04-29 00:00:00 UTC</td>\n",
       "      <td>141.96</td>\n",
       "      <td>1.575032e+09</td>\n",
       "      <td>0.0</td>\n",
       "    </tr>\n",
       "    <tr>\n",
       "      <th>2</th>\n",
       "      <td>2013-04-30 00:00:00 UTC</td>\n",
       "      <td>135.30</td>\n",
       "      <td>1.501657e+09</td>\n",
       "      <td>0.0</td>\n",
       "    </tr>\n",
       "    <tr>\n",
       "      <th>3</th>\n",
       "      <td>2013-05-01 00:00:00 UTC</td>\n",
       "      <td>117.00</td>\n",
       "      <td>1.298952e+09</td>\n",
       "      <td>0.0</td>\n",
       "    </tr>\n",
       "    <tr>\n",
       "      <th>4</th>\n",
       "      <td>2013-05-02 00:00:00 UTC</td>\n",
       "      <td>103.43</td>\n",
       "      <td>1.148668e+09</td>\n",
       "      <td>0.0</td>\n",
       "    </tr>\n",
       "  </tbody>\n",
       "</table>\n",
       "</div>"
      ],
      "text/plain": [
       "                snapped_at   price    market_cap  total_volume\n",
       "0  2013-04-28 00:00:00 UTC  135.30  1.500518e+09           0.0\n",
       "1  2013-04-29 00:00:00 UTC  141.96  1.575032e+09           0.0\n",
       "2  2013-04-30 00:00:00 UTC  135.30  1.501657e+09           0.0\n",
       "3  2013-05-01 00:00:00 UTC  117.00  1.298952e+09           0.0\n",
       "4  2013-05-02 00:00:00 UTC  103.43  1.148668e+09           0.0"
      ]
     },
     "execution_count": 3,
     "metadata": {},
     "output_type": "execute_result"
    }
   ],
   "source": [
    "BTC = pd.read_csv (r'btc-usd-max.csv')\n",
    "BTC.head()"
   ]
  },
  {
   "cell_type": "markdown",
   "metadata": {},
   "source": [
    "# Cryptocurrency Dataset Features\n",
    "```\n",
    "snapped_at : time of observation\n",
    "price: price at observation point\n",
    "market_cap : market capitalization in USD\n",
    "total_volume : volume of transactions on the given day\n",
    "```\n",
    "(from https://www.coingecko.com/en/coins/dogecoin/historical_data/btc and https://www.coingecko.com/en/coins/bitcoin/historical_data/usd#panel)"
   ]
  },
  {
   "cell_type": "code",
   "execution_count": 9,
   "metadata": {},
   "outputs": [
    {
     "data": {
      "text/plain": [
       "Text(0.5, 1.0, 'Standard deviation of predictors')"
      ]
     },
     "execution_count": 9,
     "metadata": {},
     "output_type": "execute_result"
    },
    {
     "data": {
      "image/png": "[encoded data removed]",
      "text/plain": [
       "<Figure size 432x288 with 1 Axes>"
      ]
     },
     "metadata": {
      "needs_background": "light"
     },
     "output_type": "display_data"
    }
   ],
   "source": [
    "x =BTC.index\n",
    "y1=BTC.price\n",
    "y2= BTC.market_cap\n",
    "y3 = BTC.total_volume\n",
    "\n",
    "\n",
    "plt.plot(x,y1)\n",
    "plt.xlabel('Predictor index')\n",
    "plt.ylabel('Standard deviation')\n",
    "plt.title('Standard deviation of predictors')"
   ]
  },
  {
   "cell_type": "code",
   "execution_count": 6,
   "metadata": {},
   "outputs": [
    {
     "data": {
      "text/html": [
       "<div>\n",
       "<style scoped>\n",
       "    .dataframe tbody tr th:only-of-type {\n",
       "        vertical-align: middle;\n",
       "    }\n",
       "\n",
       "    .dataframe tbody tr th {\n",
       "        vertical-align: top;\n",
       "    }\n",
       "\n",
       "    .dataframe thead th {\n",
       "        text-align: right;\n",
       "    }\n",
       "</style>\n",
       "<table border=\"1\" class=\"dataframe\">\n",
       "  <thead>\n",
       "    <tr style=\"text-align: right;\">\n",
       "      <th></th>\n",
       "      <th>snapped_at</th>\n",
       "      <th>price</th>\n",
       "      <th>market_cap</th>\n",
       "      <th>total_volume</th>\n",
       "    </tr>\n",
       "  </thead>\n",
       "  <tbody>\n",
       "    <tr>\n",
       "      <th>0</th>\n",
       "      <td>2013-12-15 00:00:00 UTC</td>\n",
       "      <td>0.000559</td>\n",
       "      <td>3488670.0</td>\n",
       "      <td>0.0</td>\n",
       "    </tr>\n",
       "    <tr>\n",
       "      <th>1</th>\n",
       "      <td>2013-12-17 00:00:00 UTC</td>\n",
       "      <td>0.000218</td>\n",
       "      <td>1619159.0</td>\n",
       "      <td>0.0</td>\n",
       "    </tr>\n",
       "    <tr>\n",
       "      <th>2</th>\n",
       "      <td>2013-12-18 00:00:00 UTC</td>\n",
       "      <td>0.000268</td>\n",
       "      <td>2191987.0</td>\n",
       "      <td>0.0</td>\n",
       "    </tr>\n",
       "    <tr>\n",
       "      <th>3</th>\n",
       "      <td>2013-12-19 00:00:00 UTC</td>\n",
       "      <td>0.000475</td>\n",
       "      <td>4299422.0</td>\n",
       "      <td>0.0</td>\n",
       "    </tr>\n",
       "    <tr>\n",
       "      <th>4</th>\n",
       "      <td>2013-12-20 00:00:00 UTC</td>\n",
       "      <td>0.000989</td>\n",
       "      <td>9866232.0</td>\n",
       "      <td>0.0</td>\n",
       "    </tr>\n",
       "  </tbody>\n",
       "</table>\n",
       "</div>"
      ],
      "text/plain": [
       "                snapped_at     price  market_cap  total_volume\n",
       "0  2013-12-15 00:00:00 UTC  0.000559   3488670.0           0.0\n",
       "1  2013-12-17 00:00:00 UTC  0.000218   1619159.0           0.0\n",
       "2  2013-12-18 00:00:00 UTC  0.000268   2191987.0           0.0\n",
       "3  2013-12-19 00:00:00 UTC  0.000475   4299422.0           0.0\n",
       "4  2013-12-20 00:00:00 UTC  0.000989   9866232.0           0.0"
      ]
     },
     "execution_count": 6,
     "metadata": {},
     "output_type": "execute_result"
    }
   ],
   "source": [
    "DOGE = pd.read_csv (r'doge-usd-max.csv')\n",
    "DOGE.head()"
   ]
  },
  {
   "cell_type": "code",
   "execution_count": 11,
   "metadata": {},
   "outputs": [
    {
     "data": {
      "text/plain": [
       "Text(0.5, 1.0, 'Standard deviation of predictors')"
      ]
     },
     "execution_count": 11,
     "metadata": {},
     "output_type": "execute_result"
    },
    {
     "data": {
      "image/png": "[encoded data removed]",
      "text/plain": [
       "<Figure size 432x288 with 1 Axes>"
      ]
     },
     "metadata": {
      "needs_background": "light"
     },
     "output_type": "display_data"
    }
   ],
   "source": [
    "x2 =DOGE.index\n",
    "y4=DOGE.price\n",
    "y5= DOGE.market_cap\n",
    "y6 = DOGE.total_volume\n",
    "\n",
    "plt.plot(x2,y4)\n",
    "plt.xlabel('Predictor index')\n",
    "plt.ylabel('Standard deviation')\n",
    "plt.title('Standard deviation of predictors')\n"
   ]
  },
  {
   "cell_type": "code",
   "execution_count": null,
   "metadata": {},
   "outputs": [],
   "source": []
  },
  {
   "cell_type": "markdown",
   "metadata": {},
   "source": [
    "# Model Selection: Multiple Linear Regression\n",
    "Goal: select the model with the lowest cross-validated test MSE (mean squared error) to balance bias/variance and prevent overfitting"
   ]
  },
  {
   "cell_type": "markdown",
   "metadata": {},
   "source": [
    "> $CV_k = \\frac{1}{k} \\sum_{i=1}^{k} MSE_i$"
   ]
  },
  {
   "cell_type": "markdown",
   "metadata": {},
   "source": [
    "## Leave-one-out cross-validation (LOOCV)\n",
    "- Choose 1 data point to use for validation/test & train remaining (n-1) observations\n",
    "- Repeat n times using a different observation point as the test each time"
   ]
  },
  {
   "cell_type": "code",
   "execution_count": null,
   "metadata": {},
   "outputs": [],
   "source": []
  },
  {
   "cell_type": "markdown",
   "metadata": {},
   "source": [
    "## k-Fold cross-validation\n",
    "- Randomly assign each data point to one of k data subsets/folds\n",
    "- Choose one fold as test set & train remaining (k-1) folds\n",
    "- Same as LOOCV when k=n"
   ]
  },
  {
   "cell_type": "code",
   "execution_count": null,
   "metadata": {},
   "outputs": [],
   "source": []
  },
  {
   "cell_type": "markdown",
   "metadata": {},
   "source": [
    "# Model Estimation\n",
    "* can get confidence intervals and show standard error bars"
   ]
  },
  {
   "cell_type": "code",
   "execution_count": null,
   "metadata": {},
   "outputs": [],
   "source": []
  }
 ],
 "metadata": {
  "kernelspec": {
   "display_name": "Python 3",
   "language": "python",
   "name": "python3"
  },
  "language_info": {
   "codemirror_mode": {
    "name": "ipython",
    "version": 3
   },
   "file_extension": ".py",
   "mimetype": "text/x-python",
   "name": "python",
   "nbconvert_exporter": "python",
   "pygments_lexer": "ipython3",
   "version": "3.7.1"
  }
 },
 "nbformat": 4,
 "nbformat_minor": 4
}
